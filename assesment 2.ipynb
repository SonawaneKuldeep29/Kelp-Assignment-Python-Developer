{
 "cells": [
  {
   "cell_type": "code",
   "execution_count": 3,
   "id": "793df56e",
   "metadata": {},
   "outputs": [],
   "source": [
    "import pandas as pd\n",
    "\n",
    "# Step 1: Read datasets\n",
    "credit_ratings_df = pd.read_excel(\"Credit Rating Details.xlsx\")\n"
   ]
  },
  {
   "cell_type": "code",
   "execution_count": 4,
   "id": "61581732",
   "metadata": {
    "collapsed": true
   },
   "outputs": [
    {
     "data": {
      "text/html": [
       "<div>\n",
       "<style scoped>\n",
       "    .dataframe tbody tr th:only-of-type {\n",
       "        vertical-align: middle;\n",
       "    }\n",
       "\n",
       "    .dataframe tbody tr th {\n",
       "        vertical-align: top;\n",
       "    }\n",
       "\n",
       "    .dataframe thead th {\n",
       "        text-align: right;\n",
       "    }\n",
       "</style>\n",
       "<table border=\"1\" class=\"dataframe\">\n",
       "  <thead>\n",
       "    <tr style=\"text-align: right;\">\n",
       "      <th></th>\n",
       "      <th>CIN</th>\n",
       "      <th>Rating Details</th>\n",
       "    </tr>\n",
       "  </thead>\n",
       "  <tbody>\n",
       "    <tr>\n",
       "      <th>0</th>\n",
       "      <td>L36999GJ1991PLC016625</td>\n",
       "      <td>[{\"date\": \"2014-01-17\", \"agency\": \"CARE\", \"amo...</td>\n",
       "    </tr>\n",
       "    <tr>\n",
       "      <th>1</th>\n",
       "      <td>L24200MH1989PLC051736</td>\n",
       "      <td>[{\"date\": \"2022-12-26\", \"agency\": \"IND-RA\", \"a...</td>\n",
       "    </tr>\n",
       "    <tr>\n",
       "      <th>2</th>\n",
       "      <td>L15421UP1993PLC018642</td>\n",
       "      <td>[{\"date\": \"2023-02-07\", \"agency\": \"ICRA\", \"amo...</td>\n",
       "    </tr>\n",
       "    <tr>\n",
       "      <th>3</th>\n",
       "      <td>L85110KA1930PLC000124</td>\n",
       "      <td>[{\"date\": \"2015-04-15\", \"agency\": \"IND-RA\", \"a...</td>\n",
       "    </tr>\n",
       "    <tr>\n",
       "      <th>4</th>\n",
       "      <td>L29120MP1995PLC009327</td>\n",
       "      <td>[{\"date\": \"2023-03-28\", \"agency\": \"\", \"amount\"...</td>\n",
       "    </tr>\n",
       "  </tbody>\n",
       "</table>\n",
       "</div>"
      ],
      "text/plain": [
       "                     CIN                                     Rating Details\n",
       "0  L36999GJ1991PLC016625  [{\"date\": \"2014-01-17\", \"agency\": \"CARE\", \"amo...\n",
       "1  L24200MH1989PLC051736  [{\"date\": \"2022-12-26\", \"agency\": \"IND-RA\", \"a...\n",
       "2  L15421UP1993PLC018642  [{\"date\": \"2023-02-07\", \"agency\": \"ICRA\", \"amo...\n",
       "3  L85110KA1930PLC000124  [{\"date\": \"2015-04-15\", \"agency\": \"IND-RA\", \"a...\n",
       "4  L29120MP1995PLC009327  [{\"date\": \"2023-03-28\", \"agency\": \"\", \"amount\"..."
      ]
     },
     "execution_count": 4,
     "metadata": {},
     "output_type": "execute_result"
    }
   ],
   "source": [
    "credit_ratings_df.head()"
   ]
  },
  {
   "cell_type": "code",
   "execution_count": 5,
   "id": "4c0a17c6",
   "metadata": {},
   "outputs": [
    {
     "data": {
      "text/html": [
       "<div>\n",
       "<style scoped>\n",
       "    .dataframe tbody tr th:only-of-type {\n",
       "        vertical-align: middle;\n",
       "    }\n",
       "\n",
       "    .dataframe tbody tr th {\n",
       "        vertical-align: top;\n",
       "    }\n",
       "\n",
       "    .dataframe thead th {\n",
       "        text-align: right;\n",
       "    }\n",
       "</style>\n",
       "<table border=\"1\" class=\"dataframe\">\n",
       "  <thead>\n",
       "    <tr style=\"text-align: right;\">\n",
       "      <th></th>\n",
       "      <th>CIN</th>\n",
       "      <th>Screener Link</th>\n",
       "    </tr>\n",
       "  </thead>\n",
       "  <tbody>\n",
       "    <tr>\n",
       "      <th>0</th>\n",
       "      <td>L52100DL2011PLC220026</td>\n",
       "      <td>https://www.screener.in/company/780021/consoli...</td>\n",
       "    </tr>\n",
       "    <tr>\n",
       "      <th>1</th>\n",
       "      <td>U34300HP2005PLC029149</td>\n",
       "      <td>https://www.screener.in/company/780020/consoli...</td>\n",
       "    </tr>\n",
       "    <tr>\n",
       "      <th>2</th>\n",
       "      <td>L45200DL2008PLC177821</td>\n",
       "      <td>https://www.screener.in/company/780019/consoli...</td>\n",
       "    </tr>\n",
       "    <tr>\n",
       "      <th>3</th>\n",
       "      <td>L52190WB2011PLC158320</td>\n",
       "      <td>https://www.screener.in/company/780018/consoli...</td>\n",
       "    </tr>\n",
       "    <tr>\n",
       "      <th>4</th>\n",
       "      <td>L74900DL2009PLC187574</td>\n",
       "      <td>https://www.screener.in/company/780017/consoli...</td>\n",
       "    </tr>\n",
       "  </tbody>\n",
       "</table>\n",
       "</div>"
      ],
      "text/plain": [
       "                     CIN                                      Screener Link\n",
       "0  L52100DL2011PLC220026  https://www.screener.in/company/780021/consoli...\n",
       "1  U34300HP2005PLC029149  https://www.screener.in/company/780020/consoli...\n",
       "2  L45200DL2008PLC177821  https://www.screener.in/company/780019/consoli...\n",
       "3  L52190WB2011PLC158320  https://www.screener.in/company/780018/consoli...\n",
       "4  L74900DL2009PLC187574  https://www.screener.in/company/780017/consoli..."
      ]
     },
     "execution_count": 5,
     "metadata": {},
     "output_type": "execute_result"
    }
   ],
   "source": [
    "mapping_df = pd.read_excel(\"Screener CIN Mapping.xlsx\")\n",
    "mapping_df.head()"
   ]
  },
  {
   "cell_type": "code",
   "execution_count": 6,
   "id": "9abee2f4",
   "metadata": {},
   "outputs": [],
   "source": [
    "merged_df = pd.merge(credit_ratings_df, mapping_df, on=\"CIN\", how=\"left\")"
   ]
  },
  {
   "cell_type": "code",
   "execution_count": 38,
   "id": "727d284f",
   "metadata": {},
   "outputs": [
    {
     "data": {
      "text/html": [
       "<div>\n",
       "<style scoped>\n",
       "    .dataframe tbody tr th:only-of-type {\n",
       "        vertical-align: middle;\n",
       "    }\n",
       "\n",
       "    .dataframe tbody tr th {\n",
       "        vertical-align: top;\n",
       "    }\n",
       "\n",
       "    .dataframe thead th {\n",
       "        text-align: right;\n",
       "    }\n",
       "</style>\n",
       "<table border=\"1\" class=\"dataframe\">\n",
       "  <thead>\n",
       "    <tr style=\"text-align: right;\">\n",
       "      <th></th>\n",
       "      <th>CIN</th>\n",
       "      <th>Rating Details</th>\n",
       "      <th>Screener Link</th>\n",
       "    </tr>\n",
       "  </thead>\n",
       "  <tbody>\n",
       "    <tr>\n",
       "      <th>0</th>\n",
       "      <td>L36999GJ1991PLC016625</td>\n",
       "      <td>[{\"date\": \"2014-01-17\", \"agency\": \"CARE\", \"amo...</td>\n",
       "      <td>https://www.screener.in/company/526015/consoli...</td>\n",
       "    </tr>\n",
       "    <tr>\n",
       "      <th>1</th>\n",
       "      <td>L24200MH1989PLC051736</td>\n",
       "      <td>[{\"date\": \"2022-12-26\", \"agency\": \"IND-RA\", \"a...</td>\n",
       "      <td>https://www.screener.in/company/543277/consoli...</td>\n",
       "    </tr>\n",
       "    <tr>\n",
       "      <th>2</th>\n",
       "      <td>L15421UP1993PLC018642</td>\n",
       "      <td>[{\"date\": \"2023-02-07\", \"agency\": \"ICRA\", \"amo...</td>\n",
       "      <td>https://www.screener.in/company/532610/consoli...</td>\n",
       "    </tr>\n",
       "    <tr>\n",
       "      <th>3</th>\n",
       "      <td>L85110KA1930PLC000124</td>\n",
       "      <td>[{\"date\": \"2015-04-15\", \"agency\": \"IND-RA\", \"a...</td>\n",
       "      <td>https://www.screener.in/company/531807/consoli...</td>\n",
       "    </tr>\n",
       "    <tr>\n",
       "      <th>4</th>\n",
       "      <td>L29120MP1995PLC009327</td>\n",
       "      <td>[{\"date\": \"2023-03-28\", \"agency\": \"\", \"amount\"...</td>\n",
       "      <td>https://www.screener.in/company/531431/consoli...</td>\n",
       "    </tr>\n",
       "  </tbody>\n",
       "</table>\n",
       "</div>"
      ],
      "text/plain": [
       "                     CIN                                     Rating Details  \\\n",
       "0  L36999GJ1991PLC016625  [{\"date\": \"2014-01-17\", \"agency\": \"CARE\", \"amo...   \n",
       "1  L24200MH1989PLC051736  [{\"date\": \"2022-12-26\", \"agency\": \"IND-RA\", \"a...   \n",
       "2  L15421UP1993PLC018642  [{\"date\": \"2023-02-07\", \"agency\": \"ICRA\", \"amo...   \n",
       "3  L85110KA1930PLC000124  [{\"date\": \"2015-04-15\", \"agency\": \"IND-RA\", \"a...   \n",
       "4  L29120MP1995PLC009327  [{\"date\": \"2023-03-28\", \"agency\": \"\", \"amount\"...   \n",
       "\n",
       "                                       Screener Link  \n",
       "0  https://www.screener.in/company/526015/consoli...  \n",
       "1  https://www.screener.in/company/543277/consoli...  \n",
       "2  https://www.screener.in/company/532610/consoli...  \n",
       "3  https://www.screener.in/company/531807/consoli...  \n",
       "4  https://www.screener.in/company/531431/consoli...  "
      ]
     },
     "execution_count": 38,
     "metadata": {},
     "output_type": "execute_result"
    }
   ],
   "source": [
    "merged_df.head()"
   ]
  },
  {
   "cell_type": "code",
   "execution_count": 41,
   "id": "b367c322",
   "metadata": {},
   "outputs": [],
   "source": [
    "merged_df.to_csv('answer.csv', index=False)"
   ]
  },
  {
   "cell_type": "code",
   "execution_count": null,
   "id": "f5a2c167",
   "metadata": {},
   "outputs": [],
   "source": []
  }
 ],
 "metadata": {
  "kernelspec": {
   "display_name": "Python 3 (ipykernel)",
   "language": "python",
   "name": "python3"
  },
  "language_info": {
   "codemirror_mode": {
    "name": "ipython",
    "version": 3
   },
   "file_extension": ".py",
   "mimetype": "text/x-python",
   "name": "python",
   "nbconvert_exporter": "python",
   "pygments_lexer": "ipython3",
   "version": "3.10.9"
  }
 },
 "nbformat": 4,
 "nbformat_minor": 5
}
